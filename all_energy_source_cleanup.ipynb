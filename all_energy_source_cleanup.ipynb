{
 "cells": [
  {
   "cell_type": "code",
   "execution_count": 15,
   "metadata": {},
   "outputs": [],
   "source": [
    "import pandas as pd\n",
    "import json as js\n",
    "from functools import reduce\n",
    "import datetime as dt"
   ]
  },
  {
   "cell_type": "code",
   "execution_count": 16,
   "metadata": {},
   "outputs": [],
   "source": [
    "# open json file\n",
    "with open(\"Resources/kossal_copy_resources/all_electricity_supply.json\") as supply_json:\n",
    "    supply = js.load(supply_json)"
   ]
  },
  {
   "cell_type": "code",
   "execution_count": 17,
   "metadata": {},
   "outputs": [
    {
     "output_type": "execute_result",
     "data": {
      "text/plain": [
       "12"
      ]
     },
     "metadata": {},
     "execution_count": 17
    }
   ],
   "source": [
    "# find number of columns from the data fram\n",
    "num_of_col = len(supply)\n",
    "num_of_col"
   ]
  },
  {
   "cell_type": "code",
   "execution_count": 18,
   "metadata": {},
   "outputs": [],
   "source": [
    "s='Net generation : coal : United States : all sectors : monthly'\n",
    "start='Net generation : '\n",
    "end=' : United States : all sectors : monthly'\n",
    "text=s[s.find(start)+len(start):s.rfind(end)]"
   ]
  },
  {
   "cell_type": "code",
   "execution_count": 19,
   "metadata": {},
   "outputs": [
    {
     "output_type": "execute_result",
     "data": {
      "text/plain": [
       "['coal',\n",
       " 'natural gas',\n",
       " 'nuclear',\n",
       " 'conventional hydroelectric',\n",
       " 'wind',\n",
       " 'petroleum liquids',\n",
       " 'all utility-scale solar',\n",
       " 'geothermal',\n",
       " 'wood and wood-derived fuels',\n",
       " 'other gases',\n",
       " 'other biomass',\n",
       " 'other']"
      ]
     },
     "metadata": {},
     "execution_count": 19
    }
   ],
   "source": [
    "# find columns names string and get the power sources\n",
    "# supply[0]['name'] result in string 'Net generation : coal : United States : all sectors : monthly'\n",
    "col_name = []\n",
    "for i in range(len(supply)):\n",
    "    s=supply[i]['name']    \n",
    "    col_name.append(str(s[s.find(start)+len(start):s.rfind(end)]))\n",
    "col_name"
   ]
  },
  {
   "cell_type": "code",
   "execution_count": 20,
   "metadata": {},
   "outputs": [
    {
     "output_type": "execute_result",
     "data": {
      "text/plain": [
       "['df_0',\n",
       " 'df_1',\n",
       " 'df_2',\n",
       " 'df_3',\n",
       " 'df_4',\n",
       " 'df_5',\n",
       " 'df_6',\n",
       " 'df_7',\n",
       " 'df_8',\n",
       " 'df_9',\n",
       " 'df_10',\n",
       " 'df_11']"
      ]
     },
     "metadata": {},
     "execution_count": 20
    }
   ],
   "source": [
    "# create list of dataFrame Name\n",
    "df_name=['df_'+str(i) for i in range(len(supply))]\n",
    "df_name"
   ]
  },
  {
   "cell_type": "code",
   "execution_count": 21,
   "metadata": {
    "scrolled": true
   },
   "outputs": [],
   "source": [
    "# Use for loop to create data frames\n",
    "for index, col in enumerate(col_name):\n",
    "       exec(f\"{df_name[index]} = pd.DataFrame({supply[index]['data']}, columns=['date_id', '{col}'])\")    "
   ]
  },
  {
   "cell_type": "code",
   "execution_count": 22,
   "metadata": {},
   "outputs": [],
   "source": [
    "# create a list of DataFrames for join loop\n",
    "df_list = [eval(temp) for temp in df_name]"
   ]
  },
  {
   "cell_type": "code",
   "execution_count": 23,
   "metadata": {
    "scrolled": true
   },
   "outputs": [
    {
     "output_type": "execute_result",
     "data": {
      "text/plain": [
       "  date_id         coal   natural gas    nuclear  conventional hydroelectric  \\\n",
       "0  202009  68395.67702  141406.66981  65727.317                 19182.11175   \n",
       "1  202008  91164.99383  174129.84618  68982.187                 24227.83917   \n",
       "2  202007  89845.33355  185433.35809  69385.440                 27753.19342   \n",
       "3  202006  65274.37394  143179.90065  67205.083                 29137.98926   \n",
       "4  202005  46529.48478  115854.51716  64337.970                 30559.05329   \n",
       "\n",
       "          wind  petroleum liquids  all utility-scale solar  geothermal  \\\n",
       "0  23176.03240          794.67219               7757.40868  1390.39750   \n",
       "1  22570.71305          925.96988               9369.91528  1426.23924   \n",
       "2  22579.21085          963.15441              10379.27930  1430.94455   \n",
       "3  29871.72279          864.67926               9529.17251  1369.44148   \n",
       "4  28163.26916          707.14715               9734.37493  1448.82619   \n",
       "\n",
       "   wood and wood-derived fuels  other gases  other biomass       other  \n",
       "0                   2938.04250    947.17872     1512.22945  1006.84768  \n",
       "1                   3302.49204   1002.10601     1589.15438  1096.05539  \n",
       "2                   3111.53745    853.95303     1564.17641  1088.60389  \n",
       "3                   2993.49186    756.49600     1458.91919  1016.00390  \n",
       "4                   3099.05893    807.66622     1616.93726  1088.42162  "
      ],
      "text/html": "<div>\n<style scoped>\n    .dataframe tbody tr th:only-of-type {\n        vertical-align: middle;\n    }\n\n    .dataframe tbody tr th {\n        vertical-align: top;\n    }\n\n    .dataframe thead th {\n        text-align: right;\n    }\n</style>\n<table border=\"1\" class=\"dataframe\">\n  <thead>\n    <tr style=\"text-align: right;\">\n      <th></th>\n      <th>date_id</th>\n      <th>coal</th>\n      <th>natural gas</th>\n      <th>nuclear</th>\n      <th>conventional hydroelectric</th>\n      <th>wind</th>\n      <th>petroleum liquids</th>\n      <th>all utility-scale solar</th>\n      <th>geothermal</th>\n      <th>wood and wood-derived fuels</th>\n      <th>other gases</th>\n      <th>other biomass</th>\n      <th>other</th>\n    </tr>\n  </thead>\n  <tbody>\n    <tr>\n      <th>0</th>\n      <td>202009</td>\n      <td>68395.67702</td>\n      <td>141406.66981</td>\n      <td>65727.317</td>\n      <td>19182.11175</td>\n      <td>23176.03240</td>\n      <td>794.67219</td>\n      <td>7757.40868</td>\n      <td>1390.39750</td>\n      <td>2938.04250</td>\n      <td>947.17872</td>\n      <td>1512.22945</td>\n      <td>1006.84768</td>\n    </tr>\n    <tr>\n      <th>1</th>\n      <td>202008</td>\n      <td>91164.99383</td>\n      <td>174129.84618</td>\n      <td>68982.187</td>\n      <td>24227.83917</td>\n      <td>22570.71305</td>\n      <td>925.96988</td>\n      <td>9369.91528</td>\n      <td>1426.23924</td>\n      <td>3302.49204</td>\n      <td>1002.10601</td>\n      <td>1589.15438</td>\n      <td>1096.05539</td>\n    </tr>\n    <tr>\n      <th>2</th>\n      <td>202007</td>\n      <td>89845.33355</td>\n      <td>185433.35809</td>\n      <td>69385.440</td>\n      <td>27753.19342</td>\n      <td>22579.21085</td>\n      <td>963.15441</td>\n      <td>10379.27930</td>\n      <td>1430.94455</td>\n      <td>3111.53745</td>\n      <td>853.95303</td>\n      <td>1564.17641</td>\n      <td>1088.60389</td>\n    </tr>\n    <tr>\n      <th>3</th>\n      <td>202006</td>\n      <td>65274.37394</td>\n      <td>143179.90065</td>\n      <td>67205.083</td>\n      <td>29137.98926</td>\n      <td>29871.72279</td>\n      <td>864.67926</td>\n      <td>9529.17251</td>\n      <td>1369.44148</td>\n      <td>2993.49186</td>\n      <td>756.49600</td>\n      <td>1458.91919</td>\n      <td>1016.00390</td>\n    </tr>\n    <tr>\n      <th>4</th>\n      <td>202005</td>\n      <td>46529.48478</td>\n      <td>115854.51716</td>\n      <td>64337.970</td>\n      <td>30559.05329</td>\n      <td>28163.26916</td>\n      <td>707.14715</td>\n      <td>9734.37493</td>\n      <td>1448.82619</td>\n      <td>3099.05893</td>\n      <td>807.66622</td>\n      <td>1616.93726</td>\n      <td>1088.42162</td>\n    </tr>\n  </tbody>\n</table>\n</div>"
     },
     "metadata": {},
     "execution_count": 23
    }
   ],
   "source": [
    "# join DataFrames\n",
    "df_energy_source = reduce(lambda x, y: pd.merge(x,y, on = 'date_id'), df_list)\n",
    "df_energy_source.head()"
   ]
  },
  {
   "cell_type": "code",
   "execution_count": 24,
   "metadata": {},
   "outputs": [
    {
     "output_type": "execute_result",
     "data": {
      "text/plain": [
       "  date_id         coal   natural_gas    nuclear  hydroelectric         wind  \\\n",
       "0  202009  68395.67702  141406.66981  65727.317    19182.11175  23176.03240   \n",
       "1  202008  91164.99383  174129.84618  68982.187    24227.83917  22570.71305   \n",
       "2  202007  89845.33355  185433.35809  69385.440    27753.19342  22579.21085   \n",
       "3  202006  65274.37394  143179.90065  67205.083    29137.98926  29871.72279   \n",
       "4  202005  46529.48478  115854.51716  64337.970    30559.05329  28163.26916   \n",
       "\n",
       "   petroleum_liquids        solar  geothermal        wood  other_gases  \\\n",
       "0          794.67219   7757.40868  1390.39750  2938.04250    947.17872   \n",
       "1          925.96988   9369.91528  1426.23924  3302.49204   1002.10601   \n",
       "2          963.15441  10379.27930  1430.94455  3111.53745    853.95303   \n",
       "3          864.67926   9529.17251  1369.44148  2993.49186    756.49600   \n",
       "4          707.14715   9734.37493  1448.82619  3099.05893    807.66622   \n",
       "\n",
       "   other_biomass       other  \n",
       "0     1512.22945  1006.84768  \n",
       "1     1589.15438  1096.05539  \n",
       "2     1564.17641  1088.60389  \n",
       "3     1458.91919  1016.00390  \n",
       "4     1616.93726  1088.42162  "
      ],
      "text/html": "<div>\n<style scoped>\n    .dataframe tbody tr th:only-of-type {\n        vertical-align: middle;\n    }\n\n    .dataframe tbody tr th {\n        vertical-align: top;\n    }\n\n    .dataframe thead th {\n        text-align: right;\n    }\n</style>\n<table border=\"1\" class=\"dataframe\">\n  <thead>\n    <tr style=\"text-align: right;\">\n      <th></th>\n      <th>date_id</th>\n      <th>coal</th>\n      <th>natural_gas</th>\n      <th>nuclear</th>\n      <th>hydroelectric</th>\n      <th>wind</th>\n      <th>petroleum_liquids</th>\n      <th>solar</th>\n      <th>geothermal</th>\n      <th>wood</th>\n      <th>other_gases</th>\n      <th>other_biomass</th>\n      <th>other</th>\n    </tr>\n  </thead>\n  <tbody>\n    <tr>\n      <th>0</th>\n      <td>202009</td>\n      <td>68395.67702</td>\n      <td>141406.66981</td>\n      <td>65727.317</td>\n      <td>19182.11175</td>\n      <td>23176.03240</td>\n      <td>794.67219</td>\n      <td>7757.40868</td>\n      <td>1390.39750</td>\n      <td>2938.04250</td>\n      <td>947.17872</td>\n      <td>1512.22945</td>\n      <td>1006.84768</td>\n    </tr>\n    <tr>\n      <th>1</th>\n      <td>202008</td>\n      <td>91164.99383</td>\n      <td>174129.84618</td>\n      <td>68982.187</td>\n      <td>24227.83917</td>\n      <td>22570.71305</td>\n      <td>925.96988</td>\n      <td>9369.91528</td>\n      <td>1426.23924</td>\n      <td>3302.49204</td>\n      <td>1002.10601</td>\n      <td>1589.15438</td>\n      <td>1096.05539</td>\n    </tr>\n    <tr>\n      <th>2</th>\n      <td>202007</td>\n      <td>89845.33355</td>\n      <td>185433.35809</td>\n      <td>69385.440</td>\n      <td>27753.19342</td>\n      <td>22579.21085</td>\n      <td>963.15441</td>\n      <td>10379.27930</td>\n      <td>1430.94455</td>\n      <td>3111.53745</td>\n      <td>853.95303</td>\n      <td>1564.17641</td>\n      <td>1088.60389</td>\n    </tr>\n    <tr>\n      <th>3</th>\n      <td>202006</td>\n      <td>65274.37394</td>\n      <td>143179.90065</td>\n      <td>67205.083</td>\n      <td>29137.98926</td>\n      <td>29871.72279</td>\n      <td>864.67926</td>\n      <td>9529.17251</td>\n      <td>1369.44148</td>\n      <td>2993.49186</td>\n      <td>756.49600</td>\n      <td>1458.91919</td>\n      <td>1016.00390</td>\n    </tr>\n    <tr>\n      <th>4</th>\n      <td>202005</td>\n      <td>46529.48478</td>\n      <td>115854.51716</td>\n      <td>64337.970</td>\n      <td>30559.05329</td>\n      <td>28163.26916</td>\n      <td>707.14715</td>\n      <td>9734.37493</td>\n      <td>1448.82619</td>\n      <td>3099.05893</td>\n      <td>807.66622</td>\n      <td>1616.93726</td>\n      <td>1088.42162</td>\n    </tr>\n  </tbody>\n</table>\n</div>"
     },
     "metadata": {},
     "execution_count": 24
    }
   ],
   "source": [
    "# rename column to for SQL Tables\n",
    "df_energy_source=df_energy_source.rename(columns={'natural gas':'natural_gas', \n",
    "                                 'conventional hydroelectric':'hydroelectric',\n",
    "                                 'petroleum liquids':'petroleum_liquids',\n",
    "                                 'all utility-scale solar': 'solar',\n",
    "                                 'wood and wood-derived fuels':'wood',\n",
    "                                 'other gases':'other_gases',\n",
    "                                 'other biomass': 'other_biomass'\n",
    "                                })\n",
    "df_energy_source.head()"
   ]
  },
  {
   "cell_type": "code",
   "execution_count": 25,
   "metadata": {},
   "outputs": [],
   "source": [
    "# columns of interest\n",
    "col_int = ['date_id', 'natural_gas', 'nuclear', 'hydroelectric', 'wind', 'solar', 'wood', 'other_biomass', 'other']"
   ]
  },
  {
   "cell_type": "code",
   "execution_count": 27,
   "metadata": {},
   "outputs": [
    {
     "output_type": "execute_result",
     "data": {
      "text/plain": [
       "  date_id  natural_gas    nuclear  hydroelectric     wind   solar      wood  \\\n",
       "0  200101    42388.663  68707.077      18852.048  389.250   6.500  3191.212   \n",
       "1  200102    37966.927  61272.407      17472.889  431.242  12.568  2697.151   \n",
       "2  200103    44364.414  62140.712      20477.189  532.120  31.498  2852.540   \n",
       "3  200104    45842.746  56003.026      18012.994  684.695  38.759  2821.007   \n",
       "4  200105    50934.205  61512.445      19175.635  635.029  81.053  2739.933   \n",
       "\n",
       "   other_biomass      other  \n",
       "0     1208.64715  991.66885  \n",
       "1     1096.33055  871.94945  \n",
       "2     1189.04028  931.15472  \n",
       "3     1187.23919  957.45581  \n",
       "4     1210.74093  986.26807  "
      ],
      "text/html": "<div>\n<style scoped>\n    .dataframe tbody tr th:only-of-type {\n        vertical-align: middle;\n    }\n\n    .dataframe tbody tr th {\n        vertical-align: top;\n    }\n\n    .dataframe thead th {\n        text-align: right;\n    }\n</style>\n<table border=\"1\" class=\"dataframe\">\n  <thead>\n    <tr style=\"text-align: right;\">\n      <th></th>\n      <th>date_id</th>\n      <th>natural_gas</th>\n      <th>nuclear</th>\n      <th>hydroelectric</th>\n      <th>wind</th>\n      <th>solar</th>\n      <th>wood</th>\n      <th>other_biomass</th>\n      <th>other</th>\n    </tr>\n  </thead>\n  <tbody>\n    <tr>\n      <th>0</th>\n      <td>200101</td>\n      <td>42388.663</td>\n      <td>68707.077</td>\n      <td>18852.048</td>\n      <td>389.250</td>\n      <td>6.500</td>\n      <td>3191.212</td>\n      <td>1208.64715</td>\n      <td>991.66885</td>\n    </tr>\n    <tr>\n      <th>1</th>\n      <td>200102</td>\n      <td>37966.927</td>\n      <td>61272.407</td>\n      <td>17472.889</td>\n      <td>431.242</td>\n      <td>12.568</td>\n      <td>2697.151</td>\n      <td>1096.33055</td>\n      <td>871.94945</td>\n    </tr>\n    <tr>\n      <th>2</th>\n      <td>200103</td>\n      <td>44364.414</td>\n      <td>62140.712</td>\n      <td>20477.189</td>\n      <td>532.120</td>\n      <td>31.498</td>\n      <td>2852.540</td>\n      <td>1189.04028</td>\n      <td>931.15472</td>\n    </tr>\n    <tr>\n      <th>3</th>\n      <td>200104</td>\n      <td>45842.746</td>\n      <td>56003.026</td>\n      <td>18012.994</td>\n      <td>684.695</td>\n      <td>38.759</td>\n      <td>2821.007</td>\n      <td>1187.23919</td>\n      <td>957.45581</td>\n    </tr>\n    <tr>\n      <th>4</th>\n      <td>200105</td>\n      <td>50934.205</td>\n      <td>61512.445</td>\n      <td>19175.635</td>\n      <td>635.029</td>\n      <td>81.053</td>\n      <td>2739.933</td>\n      <td>1210.74093</td>\n      <td>986.26807</td>\n    </tr>\n  </tbody>\n</table>\n</div>"
     },
     "metadata": {},
     "execution_count": 27
    }
   ],
   "source": [
    "# select column of interest\n",
    "df_ener_sour = df_energy_source[col_int]\n",
    "df_ener_sour = df_ener_sour.sort_values(by=['date_id'], ascending = True).reset_index(drop=True)\n",
    "df_ener_sour.head()"
   ]
  },
  {
   "cell_type": "code",
   "execution_count": null,
   "metadata": {},
   "outputs": [],
   "source": []
  },
  {
   "cell_type": "code",
   "execution_count": null,
   "metadata": {},
   "outputs": [],
   "source": []
  }
 ],
 "metadata": {
  "kernelspec": {
   "display_name": "Python 3",
   "language": "python",
   "name": "python3"
  },
  "language_info": {
   "codemirror_mode": {
    "name": "ipython",
    "version": 3
   },
   "file_extension": ".py",
   "mimetype": "text/x-python",
   "name": "python",
   "nbconvert_exporter": "python",
   "pygments_lexer": "ipython3",
   "version": "3.6.10-final"
  }
 },
 "nbformat": 4,
 "nbformat_minor": 4
}